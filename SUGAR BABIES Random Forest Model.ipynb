{
 "cells": [
  {
   "cell_type": "code",
   "execution_count": 142,
   "metadata": {},
   "outputs": [
    {
     "data": {
      "text/html": [
       "<div>\n",
       "<style scoped>\n",
       "    .dataframe tbody tr th:only-of-type {\n",
       "        vertical-align: middle;\n",
       "    }\n",
       "\n",
       "    .dataframe tbody tr th {\n",
       "        vertical-align: top;\n",
       "    }\n",
       "\n",
       "    .dataframe thead th {\n",
       "        text-align: right;\n",
       "    }\n",
       "</style>\n",
       "<table border=\"1\" class=\"dataframe\">\n",
       "  <thead>\n",
       "    <tr style=\"text-align: right;\">\n",
       "      <th></th>\n",
       "      <th>MRN</th>\n",
       "      <th>DOL</th>\n",
       "      <th>dosing_weight</th>\n",
       "      <th>tpn_rate</th>\n",
       "      <th>smof_rate</th>\n",
       "      <th>other_Rate</th>\n",
       "      <th>dextrose_rate</th>\n",
       "      <th>total_rate</th>\n",
       "      <th>glucose_rate</th>\n",
       "      <th>blood_glucose</th>\n",
       "    </tr>\n",
       "  </thead>\n",
       "  <tbody>\n",
       "    <tr>\n",
       "      <th>0</th>\n",
       "      <td>973456881.0</td>\n",
       "      <td>1.0</td>\n",
       "      <td>0.85</td>\n",
       "      <td>2.83</td>\n",
       "      <td>NaN</td>\n",
       "      <td>NaN</td>\n",
       "      <td>10.0</td>\n",
       "      <td>2.83</td>\n",
       "      <td>5.549</td>\n",
       "      <td>125.0</td>\n",
       "    </tr>\n",
       "    <tr>\n",
       "      <th>1</th>\n",
       "      <td>973456881.0</td>\n",
       "      <td>2.0</td>\n",
       "      <td>0.85</td>\n",
       "      <td>3.54</td>\n",
       "      <td>NaN</td>\n",
       "      <td>0.17</td>\n",
       "      <td>10.0</td>\n",
       "      <td>3.37</td>\n",
       "      <td>6.608</td>\n",
       "      <td>130.0</td>\n",
       "    </tr>\n",
       "    <tr>\n",
       "      <th>2</th>\n",
       "      <td>973456881.0</td>\n",
       "      <td>2.0</td>\n",
       "      <td>0.85</td>\n",
       "      <td>2.83</td>\n",
       "      <td>NaN</td>\n",
       "      <td>0.17</td>\n",
       "      <td>10.0</td>\n",
       "      <td>2.66</td>\n",
       "      <td>5.216</td>\n",
       "      <td>130.0</td>\n",
       "    </tr>\n",
       "    <tr>\n",
       "      <th>3</th>\n",
       "      <td>973456881.0</td>\n",
       "      <td>3.0</td>\n",
       "      <td>0.85</td>\n",
       "      <td>4.25</td>\n",
       "      <td>NaN</td>\n",
       "      <td>0.34</td>\n",
       "      <td>12.5</td>\n",
       "      <td>3.91</td>\n",
       "      <td>9.583</td>\n",
       "      <td>129.0</td>\n",
       "    </tr>\n",
       "    <tr>\n",
       "      <th>4</th>\n",
       "      <td>973456881.0</td>\n",
       "      <td>4.0</td>\n",
       "      <td>0.85</td>\n",
       "      <td>4.96</td>\n",
       "      <td>NaN</td>\n",
       "      <td>0.51</td>\n",
       "      <td>14.0</td>\n",
       "      <td>4.45</td>\n",
       "      <td>12.216</td>\n",
       "      <td>NaN</td>\n",
       "    </tr>\n",
       "  </tbody>\n",
       "</table>\n",
       "</div>"
      ],
      "text/plain": [
       "           MRN  DOL  dosing_weight  tpn_rate  smof_rate  other_Rate  \\\n",
       "0  973456881.0  1.0           0.85      2.83        NaN         NaN   \n",
       "1  973456881.0  2.0           0.85      3.54        NaN        0.17   \n",
       "2  973456881.0  2.0           0.85      2.83        NaN        0.17   \n",
       "3  973456881.0  3.0           0.85      4.25        NaN        0.34   \n",
       "4  973456881.0  4.0           0.85      4.96        NaN        0.51   \n",
       "\n",
       "   dextrose_rate  total_rate  glucose_rate  blood_glucose  \n",
       "0           10.0        2.83         5.549          125.0  \n",
       "1           10.0        3.37         6.608          130.0  \n",
       "2           10.0        2.66         5.216          130.0  \n",
       "3           12.5        3.91         9.583          129.0  \n",
       "4           14.0        4.45        12.216            NaN  "
      ]
     },
     "execution_count": 142,
     "metadata": {},
     "output_type": "execute_result"
    }
   ],
   "source": [
    "import numpy as np\n",
    "import pandas as pd\n",
    "df = pd.DataFrame(pd.read_csv(\"NICU_2020.csv\"))\n",
    "df.head()"
   ]
  },
  {
   "cell_type": "code",
   "execution_count": 143,
   "metadata": {},
   "outputs": [],
   "source": [
    "#remove null target data\n",
    "df2 = df[df['blood_glucose'].notna()]"
   ]
  },
  {
   "cell_type": "code",
   "execution_count": 144,
   "metadata": {},
   "outputs": [],
   "source": [
    "#delete uneeded columns\n",
    "df_features = df2.drop(columns=['other_Rate', 'smof_rate'])"
   ]
  },
  {
   "cell_type": "code",
   "execution_count": 145,
   "metadata": {},
   "outputs": [
    {
     "data": {
      "text/html": [
       "<div>\n",
       "<style scoped>\n",
       "    .dataframe tbody tr th:only-of-type {\n",
       "        vertical-align: middle;\n",
       "    }\n",
       "\n",
       "    .dataframe tbody tr th {\n",
       "        vertical-align: top;\n",
       "    }\n",
       "\n",
       "    .dataframe thead th {\n",
       "        text-align: right;\n",
       "    }\n",
       "</style>\n",
       "<table border=\"1\" class=\"dataframe\">\n",
       "  <thead>\n",
       "    <tr style=\"text-align: right;\">\n",
       "      <th></th>\n",
       "      <th>MRN</th>\n",
       "      <th>DOL</th>\n",
       "      <th>dosing_weight</th>\n",
       "      <th>tpn_rate</th>\n",
       "      <th>dextrose_rate</th>\n",
       "      <th>total_rate</th>\n",
       "      <th>glucose_rate</th>\n",
       "      <th>blood_glucose</th>\n",
       "      <th>target</th>\n",
       "    </tr>\n",
       "  </thead>\n",
       "  <tbody>\n",
       "    <tr>\n",
       "      <th>0</th>\n",
       "      <td>973456881.0</td>\n",
       "      <td>1.0</td>\n",
       "      <td>0.85</td>\n",
       "      <td>2.83</td>\n",
       "      <td>10.0</td>\n",
       "      <td>2.83</td>\n",
       "      <td>5.549</td>\n",
       "      <td>125.0</td>\n",
       "      <td>1</td>\n",
       "    </tr>\n",
       "    <tr>\n",
       "      <th>1</th>\n",
       "      <td>973456881.0</td>\n",
       "      <td>2.0</td>\n",
       "      <td>0.85</td>\n",
       "      <td>3.54</td>\n",
       "      <td>10.0</td>\n",
       "      <td>3.37</td>\n",
       "      <td>6.608</td>\n",
       "      <td>130.0</td>\n",
       "      <td>1</td>\n",
       "    </tr>\n",
       "    <tr>\n",
       "      <th>2</th>\n",
       "      <td>973456881.0</td>\n",
       "      <td>2.0</td>\n",
       "      <td>0.85</td>\n",
       "      <td>2.83</td>\n",
       "      <td>10.0</td>\n",
       "      <td>2.66</td>\n",
       "      <td>5.216</td>\n",
       "      <td>130.0</td>\n",
       "      <td>1</td>\n",
       "    </tr>\n",
       "    <tr>\n",
       "      <th>3</th>\n",
       "      <td>973456881.0</td>\n",
       "      <td>3.0</td>\n",
       "      <td>0.85</td>\n",
       "      <td>4.25</td>\n",
       "      <td>12.5</td>\n",
       "      <td>3.91</td>\n",
       "      <td>9.583</td>\n",
       "      <td>129.0</td>\n",
       "      <td>1</td>\n",
       "    </tr>\n",
       "    <tr>\n",
       "      <th>5</th>\n",
       "      <td>973456881.0</td>\n",
       "      <td>5.0</td>\n",
       "      <td>0.85</td>\n",
       "      <td>5.31</td>\n",
       "      <td>14.0</td>\n",
       "      <td>4.80</td>\n",
       "      <td>13.176</td>\n",
       "      <td>124.0</td>\n",
       "      <td>1</td>\n",
       "    </tr>\n",
       "  </tbody>\n",
       "</table>\n",
       "</div>"
      ],
      "text/plain": [
       "           MRN  DOL  dosing_weight  tpn_rate  dextrose_rate  total_rate  \\\n",
       "0  973456881.0  1.0           0.85      2.83           10.0        2.83   \n",
       "1  973456881.0  2.0           0.85      3.54           10.0        3.37   \n",
       "2  973456881.0  2.0           0.85      2.83           10.0        2.66   \n",
       "3  973456881.0  3.0           0.85      4.25           12.5        3.91   \n",
       "5  973456881.0  5.0           0.85      5.31           14.0        4.80   \n",
       "\n",
       "   glucose_rate  blood_glucose  target  \n",
       "0         5.549          125.0       1  \n",
       "1         6.608          130.0       1  \n",
       "2         5.216          130.0       1  \n",
       "3         9.583          129.0       1  \n",
       "5        13.176          124.0       1  "
      ]
     },
     "execution_count": 145,
     "metadata": {},
     "output_type": "execute_result"
    }
   ],
   "source": [
    "#create target predictor\n",
    "def f(row):\n",
    "    if row['blood_glucose'] > 120:\n",
    "        val = 1\n",
    "    else:\n",
    "        val = 0\n",
    "    return val\n",
    "df_features['target'] = df_features.apply(f, axis=1)\n",
    "df_features.head()"
   ]
  },
  {
   "cell_type": "code",
   "execution_count": 146,
   "metadata": {},
   "outputs": [],
   "source": [
    "#drop null values\n",
    "df_features = df_features[df_features['tpn_rate'].notna()]"
   ]
  },
  {
   "cell_type": "code",
   "execution_count": 147,
   "metadata": {},
   "outputs": [],
   "source": [
    "#define features and targets\n",
    "X = df_features\n",
    "Y = df_features[\"target\"]\n",
    "#make test/train split in data\n",
    "from sklearn.model_selection import train_test_split\n",
    "X_train, X_test, y_train, y_test = train_test_split(X, Y, test_size=0.30)"
   ]
  },
  {
   "cell_type": "code",
   "execution_count": 148,
   "metadata": {},
   "outputs": [],
   "source": [
    "#remove target from predictor data\n",
    "del X_train[\"target\"]\n",
    "del X_test[\"target\"]"
   ]
  },
  {
   "cell_type": "code",
   "execution_count": 149,
   "metadata": {},
   "outputs": [],
   "source": [
    "#remove extraneous info\n",
    "del X_train[\"MRN\"]\n",
    "del X_test[\"MRN\"]"
   ]
  },
  {
   "cell_type": "code",
   "execution_count": 150,
   "metadata": {},
   "outputs": [],
   "source": [
    "#remove confounding column\n",
    "del X_train[\"blood_glucose\"]\n",
    "del X_test[\"blood_glucose\"]"
   ]
  },
  {
   "cell_type": "code",
   "execution_count": 151,
   "metadata": {},
   "outputs": [],
   "source": [
    "from sklearn.tree import DecisionTreeClassifier\n",
    "from sklearn.ensemble import BaggingClassifier, RandomForestClassifier\n",
    "import matplotlib.pyplot as plt"
   ]
  },
  {
   "cell_type": "code",
   "execution_count": 152,
   "metadata": {},
   "outputs": [
    {
     "data": {
      "text/plain": [
       "RandomForestClassifier(bootstrap=True, ccp_alpha=0.0, class_weight=None,\n",
       "                       criterion='gini', max_depth=5, max_features='auto',\n",
       "                       max_leaf_nodes=None, max_samples=None,\n",
       "                       min_impurity_decrease=0.0, min_impurity_split=None,\n",
       "                       min_samples_leaf=1, min_samples_split=2,\n",
       "                       min_weight_fraction_leaf=0.0, n_estimators=100,\n",
       "                       n_jobs=None, oob_score=False, random_state=None,\n",
       "                       verbose=0, warm_start=False)"
      ]
     },
     "execution_count": 152,
     "metadata": {},
     "output_type": "execute_result"
    }
   ],
   "source": [
    "forest = RandomForestClassifier(n_estimators=100, max_depth= 5)\n",
    "forest.fit(X_train, y_train)"
   ]
  },
  {
   "cell_type": "code",
   "execution_count": 153,
   "metadata": {},
   "outputs": [
    {
     "data": {
      "text/plain": [
       "0.7405764966740577"
      ]
     },
     "execution_count": 153,
     "metadata": {},
     "output_type": "execute_result"
    }
   ],
   "source": [
    "#built in accuracy score\n",
    "forest.score(X_test, y_test)"
   ]
  },
  {
   "cell_type": "code",
   "execution_count": 154,
   "metadata": {},
   "outputs": [
    {
     "name": "stdout",
     "output_type": "stream",
     "text": [
      "0.7813625050002222\n"
     ]
    }
   ],
   "source": [
    "# Actual class predictions\n",
    "rf_predictions = forest.predict(X_test)\n",
    "# Probabilities for each class\n",
    "rf_probs = forest.predict_proba(X_test)[:, 1]\n",
    "\n",
    "from sklearn.metrics import roc_auc_score\n",
    "\n",
    "# Calculate roc auc\n",
    "roc_value = roc_auc_score(y_test, rf_probs)\n",
    "print(roc_value)"
   ]
  },
  {
   "cell_type": "code",
   "execution_count": 155,
   "metadata": {},
   "outputs": [],
   "source": [
    "def plot_feature_importances(model):\n",
    "    n_features = X_train.shape[1]\n",
    "    plt.figure(figsize=(8,8))\n",
    "    plt.barh(range(n_features), model.feature_importances_, align='center') \n",
    "    plt.yticks(np.arange(n_features), X_train.columns.values) \n",
    "    plt.xlabel('Feature importance')\n",
    "    plt.ylabel('Feature')"
   ]
  },
  {
   "cell_type": "code",
   "execution_count": 156,
   "metadata": {
    "scrolled": true
   },
   "outputs": [
    {
     "data": {
      "image/png": "[encoded data removed]",
      "text/plain": [
       "<Figure size 576x576 with 1 Axes>"
      ]
     },
     "metadata": {
      "needs_background": "light"
     },
     "output_type": "display_data"
    }
   ],
   "source": [
    "plot_feature_importances(forest)"
   ]
  },
  {
   "cell_type": "markdown",
   "metadata": {},
   "source": [
    "Area under the ROC here demonstrates 78% accuracy in predicting the patients class (glucose intolerance or not) based on the input variables. Note that the input variables in order of importance are:\n",
    "\n",
    "1) dosing weight\n",
    "2) tpn rate\n",
    "3) total rate\n",
    "4) glucose rate\n",
    "5) dextrose rate\n",
    "6) day of life"
   ]
  }
 ],
 "metadata": {
  "kernelspec": {
   "display_name": "Python 3",
   "language": "python",
   "name": "python3"
  },
  "language_info": {
   "codemirror_mode": {
    "name": "ipython",
    "version": 3
   },
   "file_extension": ".py",
   "mimetype": "text/x-python",
   "name": "python",
   "nbconvert_exporter": "python",
   "pygments_lexer": "ipython3",
   "version": "3.7.6"
  }
 },
 "nbformat": 4,
 "nbformat_minor": 4
}
